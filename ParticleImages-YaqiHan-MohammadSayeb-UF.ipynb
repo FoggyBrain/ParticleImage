{
 "cells": [
  {
   "cell_type": "markdown",
   "metadata": {
    "id": "P3DtjEbf8M4I"
   },
   "source": [
    "# Hackathon - Particle Images\n",
    "*Yaqi Han*\n",
    "\n",
    "*Mohammad Sayeb*\n",
    "\n",
    "University of Florida\n",
    "\n"
   ]
  },
  {
   "cell_type": "markdown",
   "metadata": {
    "id": "g0b6SRpWl2Xh"
   },
   "source": [
    "## Create the appropriate project folder "
   ]
  },
  {
   "cell_type": "code",
   "execution_count": 1,
   "metadata": {
    "executionInfo": {
     "elapsed": 566,
     "status": "ok",
     "timestamp": 1604096524514,
     "user": {
      "displayName": "Yaqi Han",
      "photoUrl": "",
      "userId": "03976853212289848731"
     },
     "user_tz": 240
    },
    "id": "OYRULwKaw_A6"
   },
   "outputs": [],
   "source": [
    "mkdir Particle_Images"
   ]
  },
  {
   "cell_type": "code",
   "execution_count": 2,
   "metadata": {
    "colab": {
     "base_uri": "https://localhost:8080/"
    },
    "executionInfo": {
     "elapsed": 552,
     "status": "ok",
     "timestamp": 1604096524515,
     "user": {
      "displayName": "Yaqi Han",
      "photoUrl": "",
      "userId": "03976853212289848731"
     },
     "user_tz": 240
    },
    "id": "at-4-Xub8DYW",
    "outputId": "23d9857a-ceff-4a63-b265-a4be5cc026da"
   },
   "outputs": [
    {
     "name": "stdout",
     "output_type": "stream",
     "text": [
      "/content/Particle_Images\n"
     ]
    }
   ],
   "source": [
    "cd Particle_Images"
   ]
  },
  {
   "cell_type": "code",
   "execution_count": 3,
   "metadata": {
    "executionInfo": {
     "elapsed": 719,
     "status": "ok",
     "timestamp": 1604096524683,
     "user": {
      "displayName": "Yaqi Han",
      "photoUrl": "",
      "userId": "03976853212289848731"
     },
     "user_tz": 240
    },
    "id": "BQGKM10j2CiQ"
   },
   "outputs": [],
   "source": [
    "mkdir data/"
   ]
  },
  {
   "cell_type": "markdown",
   "metadata": {
    "id": "PEtRyfNv9XVn"
   },
   "source": [
    "# Download the Dataset"
   ]
  },
  {
   "cell_type": "code",
   "execution_count": 4,
   "metadata": {
    "colab": {
     "base_uri": "https://localhost:8080/"
    },
    "executionInfo": {
     "elapsed": 11039,
     "status": "ok",
     "timestamp": 1604096535012,
     "user": {
      "displayName": "Yaqi Han",
      "photoUrl": "",
      "userId": "03976853212289848731"
     },
     "user_tz": 240
    },
    "id": "rcK1wY4Qt_7Y",
    "outputId": "92c8cdc0-563c-4cee-fdf3-267e7e9ab965"
   },
   "outputs": [
    {
     "name": "stdout",
     "output_type": "stream",
     "text": [
      "--2020-10-30 22:22:04--  https://cernbox.cern.ch/index.php/s/sHjzCNFTFxutYCj/download\n",
      "Resolving cernbox.cern.ch (cernbox.cern.ch)... 188.184.97.72, 128.142.32.26, 137.138.120.151, ...\n",
      "Connecting to cernbox.cern.ch (cernbox.cern.ch)|188.184.97.72|:443... connected.\n",
      "HTTP request sent, awaiting response... 200 OK\n",
      "Length: 87010508 (83M) [application/octet-stream]\n",
      "Saving to: ‘data/SingleElectronPt50_IMGCROPS_n249k_RHv1.hdf5’\n",
      "\n",
      "data/SingleElectron 100%[===================>]  82.98M  23.0MB/s    in 3.6s    \n",
      "\n",
      "Last-modified header invalid -- time-stamp ignored.\n",
      "2020-10-30 22:22:09 (23.0 MB/s) - ‘data/SingleElectronPt50_IMGCROPS_n249k_RHv1.hdf5’ saved [87010508/87010508]\n",
      "\n",
      "--2020-10-30 22:22:09--  https://cernbox.cern.ch/index.php/s/69nGEZjOy3xGxBq/download\n",
      "Resolving cernbox.cern.ch (cernbox.cern.ch)... 128.142.32.38, 128.142.32.26, 137.138.120.151, ...\n",
      "Connecting to cernbox.cern.ch (cernbox.cern.ch)|128.142.32.38|:443... connected.\n",
      "HTTP request sent, awaiting response... 200 OK\n",
      "Length: 79876391 (76M) [application/octet-stream]\n",
      "Saving to: ‘data/SinglePhotonPt50_IMGCROPS_n249k_RHv1.hdf5’\n",
      "\n",
      "data/SinglePhotonPt 100%[===================>]  76.18M  18.8MB/s    in 4.1s    \n",
      "\n",
      "Last-modified header invalid -- time-stamp ignored.\n",
      "2020-10-30 22:22:14 (18.8 MB/s) - ‘data/SinglePhotonPt50_IMGCROPS_n249k_RHv1.hdf5’ saved [79876391/79876391]\n",
      "\n"
     ]
    }
   ],
   "source": [
    "#!/bin/bash\n",
    "!wget https://cernbox.cern.ch/index.php/s/sHjzCNFTFxutYCj/download -O data/SingleElectronPt50_IMGCROPS_n249k_RHv1.hdf5\n",
    "!wget https://cernbox.cern.ch/index.php/s/69nGEZjOy3xGxBq/download -O data/SinglePhotonPt50_IMGCROPS_n249k_RHv1.hdf5"
   ]
  },
  {
   "cell_type": "markdown",
   "metadata": {
    "id": "BepRE7pn8Du7"
   },
   "source": [
    "# Import modules"
   ]
  },
  {
   "cell_type": "code",
   "execution_count": 5,
   "metadata": {
    "executionInfo": {
     "elapsed": 12908,
     "status": "ok",
     "timestamp": 1604096536883,
     "user": {
      "displayName": "Yaqi Han",
      "photoUrl": "",
      "userId": "03976853212289848731"
     },
     "user_tz": 240
    },
    "id": "ZnLzC5paz0hb"
   },
   "outputs": [],
   "source": [
    "import numpy as np\n",
    "np.random.seed(1337)  # for reproducibility\n",
    "import h5py\n",
    "from keras.models import Sequential\n",
    "from keras.optimizers import Adam, Nadam\n",
    "from keras.initializers import TruncatedNormal\n",
    "from keras.layers import Input, Dense, Dropout, Flatten, Conv2D, MaxPooling2D\n",
    "from keras.callbacks import ReduceLROnPlateau\n",
    "\n",
    "from sklearn.metrics import roc_curve, auc\n",
    "\n",
    "import matplotlib.pyplot as plt"
   ]
  },
  {
   "cell_type": "markdown",
   "metadata": {
    "id": "Az_MoJwZ8K6l"
   },
   "source": [
    "# Keras Model Parameters"
   ]
  },
  {
   "cell_type": "code",
   "execution_count": 35,
   "metadata": {
    "executionInfo": {
     "elapsed": 301,
     "status": "ok",
     "timestamp": 1604097574593,
     "user": {
      "displayName": "Yaqi Han",
      "photoUrl": "",
      "userId": "03976853212289848731"
     },
     "user_tz": 240
    },
    "id": "ZzF8AHl_4yUA"
   },
   "outputs": [],
   "source": [
    "lr_init     = 1.e-3    # Initial learning rate  \n",
    "batch_size  = 64       # Training batch size\n",
    "train_size  = 131072     # Training size\n",
    "valid_size  = 4096     # Validation size\n",
    "test_size   = 16384     # Test size\n",
    "epochs      = 30       # Number of epochs\n",
    "doGPU       = False    # Use GPU"
   ]
  },
  {
   "cell_type": "markdown",
   "metadata": {
    "id": "_jX_l-WmplJx"
   },
   "source": [
    "## It is recommended to use GPU for training and inference if possible."
   ]
  },
  {
   "cell_type": "code",
   "execution_count": 7,
   "metadata": {
    "executionInfo": {
     "elapsed": 12909,
     "status": "ok",
     "timestamp": 1604096536886,
     "user": {
      "displayName": "Yaqi Han",
      "photoUrl": "",
      "userId": "03976853212289848731"
     },
     "user_tz": 240
    },
    "id": "PVq1XGr640nJ"
   },
   "outputs": [],
   "source": [
    "if doGPU:\n",
    "    import tensorflow as tf\n",
    "    from keras.backend.tensorflow_backend import set_session\n",
    "    config = tf.ConfigProto()\n",
    "    config.gpu_options.allow_growth=True\n",
    "    set_session(tf.Session(config=config))"
   ]
  },
  {
   "cell_type": "markdown",
   "metadata": {
    "id": "xwc56kXJ8TLo"
   },
   "source": [
    "# Load Image Data\n",
    "### Two classes of particles: electrons and photons\n",
    "### 32x32 matrices (two channels - hit energy and time) for the two classes of particles electrons and photons impinging on a calorimeter (one calorimetric cell = one pixel).\n",
    "#### Only the energy channel is taken into consideration."
   ]
  },
  {
   "cell_type": "code",
   "execution_count": 8,
   "metadata": {
    "executionInfo": {
     "elapsed": 12907,
     "status": "ok",
     "timestamp": 1604096536886,
     "user": {
      "displayName": "Yaqi Han",
      "photoUrl": "",
      "userId": "03976853212289848731"
     },
     "user_tz": 240
    },
    "id": "kr4QIMlt424u"
   },
   "outputs": [],
   "source": [
    "img_rows, img_cols, nb_channels = 32, 32, 2        \n",
    "input_dir = 'data'\n",
    "decays = ['SinglePhotonPt50_IMGCROPS_n249k_RHv1', 'SingleElectronPt50_IMGCROPS_n249k_RHv1']\n",
    "\n",
    "def load_data(decays, start, stop):\n",
    "    global input_dir\n",
    "    dsets = [h5py.File('%s/%s.hdf5'%(input_dir,decay)) for decay in decays]\n",
    "    X = np.concatenate([dset['/X'][start:stop] for dset in dsets])\n",
    "    y = np.concatenate([dset['/y'][start:stop] for dset in dsets])\n",
    "    X = X[:,:,:,0].reshape((X.shape[0],X.shape[1],X.shape[2],1))\n",
    "    assert len(X) == len(y)\n",
    "    return X, y"
   ]
  },
  {
   "cell_type": "markdown",
   "metadata": {
    "id": "-JpHCOf38fDL"
   },
   "source": [
    "# Configure Training / Validation / Test Sets"
   ]
  },
  {
   "cell_type": "code",
   "execution_count": 36,
   "metadata": {
    "colab": {
     "base_uri": "https://localhost:8080/"
    },
    "executionInfo": {
     "elapsed": 19136,
     "status": "ok",
     "timestamp": 1604097602701,
     "user": {
      "displayName": "Yaqi Han",
      "photoUrl": "",
      "userId": "03976853212289848731"
     },
     "user_tz": 240
    },
    "id": "-RTXS58x46Fq",
    "outputId": "90ed8196-7f5b-4193-8224-b39e47ca4096"
   },
   "outputs": [
    {
     "name": "stderr",
     "output_type": "stream",
     "text": [
      "/usr/local/lib/python3.6/dist-packages/ipykernel_launcher.py:7: H5pyDeprecationWarning: The default file mode will change to 'r' (read-only) in h5py 3.0. To suppress this warning, pass the mode you need to h5py.File(), or set the global default h5.get_config().default_file_mode, or set the environment variable H5PY_DEFAULT_READONLY=1. Available modes are: 'r', 'r+', 'w', 'w-'/'x', 'a'. See the docs for details.\n",
      "  import sys\n"
     ]
    }
   ],
   "source": [
    "# Set range of training set\n",
    "train_start, train_stop = 0, train_size\n",
    "assert train_stop > train_start\n",
    "assert (len(decays)*train_size) % batch_size == 0\n",
    "X_train, y_train = load_data(decays,train_start,train_stop)\n",
    "\n",
    "# Set range of validation set\n",
    "valid_start, valid_stop = 150000, 150000+valid_size\n",
    "assert valid_stop  >  valid_start\n",
    "assert valid_start >= train_stop\n",
    "X_valid, y_valid = load_data(decays,valid_start,valid_stop)\n",
    "\n",
    "# Set range of test set\n",
    "test_start, test_stop = 180000, 180000+test_size\n",
    "assert test_stop  >  test_start\n",
    "assert test_start >= valid_stop\n",
    "X_test, y_test = load_data(decays,test_start,test_stop)\n",
    "\n",
    "samples_requested = len(decays) * (train_size + valid_size + test_size)\n",
    "samples_available = len(y_train) + len(y_valid) + len(y_test)\n",
    "assert samples_requested == samples_available"
   ]
  },
  {
   "cell_type": "markdown",
   "metadata": {
    "id": "UTFIMRnL8w41"
   },
   "source": [
    "# Plot sample of training images\n"
   ]
  },
  {
   "cell_type": "code",
   "execution_count": 10,
   "metadata": {
    "colab": {
     "base_uri": "https://localhost:8080/",
     "height": 54
    },
    "executionInfo": {
     "elapsed": 16703,
     "status": "ok",
     "timestamp": 1604096540701,
     "user": {
      "displayName": "Yaqi Han",
      "photoUrl": "",
      "userId": "03976853212289848731"
     },
     "user_tz": 240
    },
    "id": "e_IDs16U52-C",
    "outputId": "29ad44b9-f99e-41ff-e940-9a4cb45f2e1b"
   },
   "outputs": [
    {
     "data": {
      "application/vnd.google.colaboratory.intrinsic+json": {
       "type": "string"
      },
      "text/plain": [
       "'\\nplt.figure(1)\\n\\nplt.subplot(221)\\nplt.imshow(X_train[1,:,:,0])\\nplt.title(\"Channel 0: Energy\")  # Energy\\nplt.grid(True)\\n\\nplt.subplot(222)\\nplt.imshow(X_train[1,:,:,1])\\nplt.title(\"Channel 1: Time\")  # Time\\nplt.grid(True)\\n\\n\\nplt.show()\\n'"
      ]
     },
     "execution_count": 10,
     "metadata": {
      "tags": []
     },
     "output_type": "execute_result"
    }
   ],
   "source": [
    "\n",
    "plt.figure(1)\n",
    "\n",
    "plt.subplot(221)\n",
    "plt.imshow(X_train[1,:,:,0])\n",
    "plt.title(\"photon example\")  # photon\n",
    "plt.grid(True)\n",
    "\n",
    "plt.subplot(222)\n",
    "plt.imshow(X_train[-1,:,:,0])\n",
    "plt.title(\"electron example\")  # electron\n",
    "plt.grid(True)\n",
    "\n",
    "\n",
    "plt.show()\n"
   ]
  },
  {
   "cell_type": "markdown",
   "metadata": {
    "id": "ke_NQLiz83jZ"
   },
   "source": [
    "# Define CNN Model"
   ]
  },
  {
   "cell_type": "code",
   "execution_count": 37,
   "metadata": {
    "colab": {
     "base_uri": "https://localhost:8080/"
    },
    "executionInfo": {
     "elapsed": 3614,
     "status": "ok",
     "timestamp": 1604097602702,
     "user": {
      "displayName": "Yaqi Han",
      "photoUrl": "",
      "userId": "03976853212289848731"
     },
     "user_tz": 240
    },
    "id": "OlIJuxXG7KDk",
    "outputId": "dc9a88e8-65a0-4dc2-dcb7-f6cce45e53b5"
   },
   "outputs": [
    {
     "name": "stdout",
     "output_type": "stream",
     "text": [
      "Model: \"sequential_8\"\n",
      "_________________________________________________________________\n",
      "Layer (type)                 Output Shape              Param #   \n",
      "=================================================================\n",
      "conv2d_24 (Conv2D)           (None, 32, 32, 32)        320       \n",
      "_________________________________________________________________\n",
      "max_pooling2d_24 (MaxPooling (None, 16, 16, 32)        0         \n",
      "_________________________________________________________________\n",
      "conv2d_25 (Conv2D)           (None, 16, 16, 32)        9248      \n",
      "_________________________________________________________________\n",
      "max_pooling2d_25 (MaxPooling (None, 8, 8, 32)          0         \n",
      "_________________________________________________________________\n",
      "conv2d_26 (Conv2D)           (None, 8, 8, 64)          18496     \n",
      "_________________________________________________________________\n",
      "max_pooling2d_26 (MaxPooling (None, 4, 4, 64)          0         \n",
      "_________________________________________________________________\n",
      "flatten_8 (Flatten)          (None, 1024)              0         \n",
      "_________________________________________________________________\n",
      "dense_22 (Dense)             (None, 256)               262400    \n",
      "_________________________________________________________________\n",
      "dropout_14 (Dropout)         (None, 256)               0         \n",
      "_________________________________________________________________\n",
      "dense_23 (Dense)             (None, 128)               32896     \n",
      "_________________________________________________________________\n",
      "dropout_15 (Dropout)         (None, 128)               0         \n",
      "_________________________________________________________________\n",
      "dense_24 (Dense)             (None, 1)                 129       \n",
      "=================================================================\n",
      "Total params: 323,489\n",
      "Trainable params: 323,489\n",
      "Non-trainable params: 0\n",
      "_________________________________________________________________\n"
     ]
    }
   ],
   "source": [
    "### Define Convolutional Neural Network (CNN) Model ###\n",
    "\n",
    "model = Sequential()\n",
    "#initializer = keras.initializers.TruncatedNormal(mean=0.0, stddev=0.1, seed=None)\n",
    "model.add(Conv2D(32, activation='relu', kernel_size=3, padding='same', kernel_initializer='TruncatedNormal', input_shape=(img_rows, img_cols, 1)))\n",
    "#model.add(Conv2D(32, activation='relu', kernel_size=3, padding='same', kernel_initializer='TruncatedNormal'))\n",
    "model.add(MaxPooling2D(pool_size=(2, 2)))\n",
    "model.add(Conv2D(32, activation='relu', kernel_size=3, padding='same', kernel_initializer='TruncatedNormal'))\n",
    "model.add(MaxPooling2D(pool_size=(2, 2)))\n",
    "model.add(Conv2D(64, activation = 'relu', kernel_size=3, padding = 'same', kernel_initializer='TruncatedNormal'))\n",
    "model.add(MaxPooling2D(pool_size=(2, 2)))\n",
    "model.add(Flatten())\n",
    "model.add(Dense(256, activation='relu', kernel_initializer='TruncatedNormal'))\n",
    "model.add(Dropout(0.2))\n",
    "model.add(Dense(128, activation='relu', kernel_initializer='TruncatedNormal'))\n",
    "model.add(Dropout(0.2))\n",
    "model.add(Dense(1, activation='sigmoid', kernel_initializer='TruncatedNormal'))\n",
    "model.compile(loss='binary_crossentropy', optimizer=Nadam(lr=lr_init), metrics=['accuracy'])\n",
    "model.summary()"
   ]
  },
  {
   "cell_type": "markdown",
   "metadata": {
    "id": "bsQWFD0M86pA"
   },
   "source": [
    "## Train the Model\n",
    "### You may further optimize the model, tune hyper-parameters, etc. accordingly to achieve the best performance possible."
   ]
  },
  {
   "cell_type": "code",
   "execution_count": 38,
   "metadata": {
    "colab": {
     "base_uri": "https://localhost:8080/"
    },
    "executionInfo": {
     "elapsed": 550135,
     "status": "ok",
     "timestamp": 1604098178255,
     "user": {
      "displayName": "Yaqi Han",
      "photoUrl": "",
      "userId": "03976853212289848731"
     },
     "user_tz": 240
    },
    "id": "ZGuyM25L7uc0",
    "outputId": "e52850c5-788b-4281-8bd4-d09b8670d2a6"
   },
   "outputs": [
    {
     "name": "stdout",
     "output_type": "stream",
     "text": [
      "Epoch 1/30\n",
      "4096/4096 [==============================] - 19s 5ms/step - loss: 0.6026 - accuracy: 0.6798 - val_loss: 0.5810 - val_accuracy: 0.7042\n",
      "Epoch 2/30\n",
      "4096/4096 [==============================] - 18s 4ms/step - loss: 0.5727 - accuracy: 0.7117 - val_loss: 0.5683 - val_accuracy: 0.7123\n",
      "Epoch 3/30\n",
      "4096/4096 [==============================] - 19s 5ms/step - loss: 0.5649 - accuracy: 0.7168 - val_loss: 0.5605 - val_accuracy: 0.7164\n",
      "Epoch 4/30\n",
      "4096/4096 [==============================] - 18s 5ms/step - loss: 0.5611 - accuracy: 0.7195 - val_loss: 0.5568 - val_accuracy: 0.7201\n",
      "Epoch 5/30\n",
      "4096/4096 [==============================] - 18s 4ms/step - loss: 0.5586 - accuracy: 0.7215 - val_loss: 0.5548 - val_accuracy: 0.7186\n",
      "Epoch 6/30\n",
      "4096/4096 [==============================] - 18s 4ms/step - loss: 0.5563 - accuracy: 0.7224 - val_loss: 0.5535 - val_accuracy: 0.7156\n",
      "Epoch 7/30\n",
      "4096/4096 [==============================] - 18s 4ms/step - loss: 0.5544 - accuracy: 0.7247 - val_loss: 0.5628 - val_accuracy: 0.7128\n",
      "Epoch 8/30\n",
      "4096/4096 [==============================] - 18s 4ms/step - loss: 0.5529 - accuracy: 0.7254 - val_loss: 0.5499 - val_accuracy: 0.7236\n",
      "Epoch 9/30\n",
      "4096/4096 [==============================] - 19s 5ms/step - loss: 0.5514 - accuracy: 0.7274 - val_loss: 0.5524 - val_accuracy: 0.7218\n",
      "Epoch 10/30\n",
      "4096/4096 [==============================] - 19s 5ms/step - loss: 0.5506 - accuracy: 0.7280 - val_loss: 0.5506 - val_accuracy: 0.7222\n",
      "Epoch 11/30\n",
      "4096/4096 [==============================] - 19s 5ms/step - loss: 0.5423 - accuracy: 0.7327 - val_loss: 0.5438 - val_accuracy: 0.7278\n",
      "Epoch 12/30\n",
      "4096/4096 [==============================] - 19s 5ms/step - loss: 0.5412 - accuracy: 0.7339 - val_loss: 0.5433 - val_accuracy: 0.7269\n",
      "Epoch 13/30\n",
      "4096/4096 [==============================] - 19s 5ms/step - loss: 0.5402 - accuracy: 0.7345 - val_loss: 0.5422 - val_accuracy: 0.7286\n",
      "Epoch 14/30\n",
      "4096/4096 [==============================] - 18s 4ms/step - loss: 0.5399 - accuracy: 0.7347 - val_loss: 0.5427 - val_accuracy: 0.7289\n",
      "Epoch 15/30\n",
      "4096/4096 [==============================] - 18s 4ms/step - loss: 0.5394 - accuracy: 0.7348 - val_loss: 0.5424 - val_accuracy: 0.7323\n",
      "Epoch 16/30\n",
      "4096/4096 [==============================] - 18s 4ms/step - loss: 0.5368 - accuracy: 0.7362 - val_loss: 0.5414 - val_accuracy: 0.7284\n",
      "Epoch 17/30\n",
      "4096/4096 [==============================] - 18s 4ms/step - loss: 0.5365 - accuracy: 0.7364 - val_loss: 0.5414 - val_accuracy: 0.7280\n",
      "Epoch 18/30\n",
      "4096/4096 [==============================] - 18s 4ms/step - loss: 0.5361 - accuracy: 0.7366 - val_loss: 0.5420 - val_accuracy: 0.7285\n",
      "Epoch 19/30\n",
      "4096/4096 [==============================] - 18s 4ms/step - loss: 0.5357 - accuracy: 0.7366 - val_loss: 0.5412 - val_accuracy: 0.7289\n",
      "Epoch 20/30\n",
      "4096/4096 [==============================] - 18s 4ms/step - loss: 0.5356 - accuracy: 0.7369 - val_loss: 0.5411 - val_accuracy: 0.7300\n",
      "Epoch 21/30\n",
      "4096/4096 [==============================] - 18s 4ms/step - loss: 0.5355 - accuracy: 0.7372 - val_loss: 0.5410 - val_accuracy: 0.7311\n",
      "Epoch 22/30\n",
      "4096/4096 [==============================] - 18s 4ms/step - loss: 0.5354 - accuracy: 0.7368 - val_loss: 0.5410 - val_accuracy: 0.7299\n",
      "Epoch 23/30\n",
      "4096/4096 [==============================] - 18s 4ms/step - loss: 0.5356 - accuracy: 0.7370 - val_loss: 0.5410 - val_accuracy: 0.7312\n",
      "Epoch 24/30\n",
      "4096/4096 [==============================] - 18s 4ms/step - loss: 0.5355 - accuracy: 0.7371 - val_loss: 0.5410 - val_accuracy: 0.7305\n",
      "Epoch 25/30\n",
      "4096/4096 [==============================] - 18s 4ms/step - loss: 0.5352 - accuracy: 0.7374 - val_loss: 0.5410 - val_accuracy: 0.7302\n",
      "Epoch 26/30\n",
      "4096/4096 [==============================] - 18s 4ms/step - loss: 0.5356 - accuracy: 0.7368 - val_loss: 0.5410 - val_accuracy: 0.7307\n",
      "Epoch 27/30\n",
      "4096/4096 [==============================] - 18s 4ms/step - loss: 0.5353 - accuracy: 0.7373 - val_loss: 0.5410 - val_accuracy: 0.7300\n",
      "Epoch 28/30\n",
      "4096/4096 [==============================] - 18s 4ms/step - loss: 0.5352 - accuracy: 0.7373 - val_loss: 0.5410 - val_accuracy: 0.7303\n",
      "Epoch 29/30\n",
      "4096/4096 [==============================] - 18s 4ms/step - loss: 0.5354 - accuracy: 0.7375 - val_loss: 0.5410 - val_accuracy: 0.7301\n",
      "Epoch 30/30\n",
      "4096/4096 [==============================] - 19s 5ms/step - loss: 0.5355 - accuracy: 0.7371 - val_loss: 0.5409 - val_accuracy: 0.7299\n"
     ]
    }
   ],
   "source": [
    "reduce_lr = ReduceLROnPlateau(monitor='val_loss', factor=0.2, patience=2, min_lr=1.e-6)\n",
    "history=model.fit(X_train, y_train,\\\n",
    "        batch_size=batch_size,\\\n",
    "        epochs=epochs+10,\\\n",
    "        validation_data=(X_valid, y_valid),\\\n",
    "        callbacks=[reduce_lr],\\\n",
    "        verbose=1, shuffle=True)"
   ]
  },
  {
   "cell_type": "markdown",
   "metadata": {
    "id": "oLoN43278_-j"
   },
   "source": [
    "## Evaluate the Model  \n",
    "### Along with the model accuracy, the prefered metric for evaluation is ROC (Receiver Operating Characteristic) curve and the AUC score (Area under the ROC Curve)."
   ]
  },
  {
   "cell_type": "code",
   "execution_count": 39,
   "metadata": {
    "colab": {
     "base_uri": "https://localhost:8080/"
    },
    "executionInfo": {
     "elapsed": 4757,
     "status": "ok",
     "timestamp": 1604098233442,
     "user": {
      "displayName": "Yaqi Han",
      "photoUrl": "",
      "userId": "03976853212289848731"
     },
     "user_tz": 240
    },
    "id": "ekuQLYas7xh5",
    "outputId": "0f208614-1423-4993-ad7d-514f969f3466"
   },
   "outputs": [
    {
     "name": "stdout",
     "output_type": "stream",
     "text": [
      "256/256 [==============================] - 1s 2ms/step - loss: 0.5409 - accuracy: 0.7299\n",
      "\n",
      "Validation loss / accuracy: 0.5409 / 0.7299\n",
      "Validation ROC AUC: 0.8014571666717529\n",
      "1024/1024 [==============================] - 2s 2ms/step - loss: 0.5350 - accuracy: 0.7384\n",
      "\n",
      "Test loss / accuracy: 0.5350 / 0.7384\n",
      "Test ROC AUC: 0.8072340562939644\n"
     ]
    }
   ],
   "source": [
    "# Evaluate on validation set\n",
    "score = model.evaluate(X_valid, y_valid, verbose=1)\n",
    "print('\\nValidation loss / accuracy: %0.4f / %0.4f'%(score[0], score[1]))\n",
    "y_pred = model.predict(X_valid)\n",
    "fpr, tpr, _ = roc_curve(y_valid, y_pred)\n",
    "roc_auc = auc(fpr, tpr)\n",
    "print('Validation ROC AUC:', roc_auc)\n",
    "\n",
    "# Evaluate on test set\n",
    "score = model.evaluate(X_test, y_test, verbose=1)\n",
    "print('\\nTest loss / accuracy: %0.4f / %0.4f'%(score[0], score[1]))\n",
    "y_pred = model.predict(X_test)\n",
    "fpr, tpr, _ = roc_curve(y_test, y_pred)\n",
    "roc_auc = auc(fpr, tpr)\n",
    "print('Test ROC AUC:', roc_auc)"
   ]
  },
  {
   "cell_type": "code",
   "execution_count": 40,
   "metadata": {
    "colab": {
     "base_uri": "https://localhost:8080/",
     "height": 295
    },
    "executionInfo": {
     "elapsed": 490,
     "status": "ok",
     "timestamp": 1604098261929,
     "user": {
      "displayName": "Yaqi Han",
      "photoUrl": "",
      "userId": "03976853212289848731"
     },
     "user_tz": 240
    },
    "id": "kmSRYI0R72Wn",
    "outputId": "9bd8662d-f0e1-4a0e-c7ea-2a02ac50950c"
   },
   "outputs": [
    {
     "data": {
      "image/png": "[encoded data removed]",
      "text/plain": [
       "<Figure size 432x288 with 1 Axes>"
      ]
     },
     "metadata": {
      "needs_background": "light",
      "tags": []
     },
     "output_type": "display_data"
    }
   ],
   "source": [
    "plt.plot([0, 1], [0, 1], 'k--')\n",
    "#plt.legend(loc=2, prop={'size': 15})\n",
    "plt.plot(fpr, tpr, label='Model 1 (ROC-AUC = {:.3f})'.format(roc_auc))\n",
    "plt.xlabel('False positive rate')\n",
    "plt.ylabel('True positive rate')\n",
    "plt.title('ROC curve')\n",
    "plt.legend(loc='best')\n",
    "plt.show()"
   ]
  },
  {
   "cell_type": "code",
   "execution_count": 44,
   "metadata": {
    "executionInfo": {
     "elapsed": 278,
     "status": "ok",
     "timestamp": 1604098661390,
     "user": {
      "displayName": "Yaqi Han",
      "photoUrl": "",
      "userId": "03976853212289848731"
     },
     "user_tz": 240
    },
    "id": "Jx383RL9nFBe"
   },
   "outputs": [],
   "source": [
    "model.save('Model.h5')\n",
    "model.save_weights('weights.h5')"
   ]
  },
  {
   "cell_type": "markdown",
   "metadata": {
    "id": "Nna7GkM45Y5w"
   },
   "source": [
    "# Submission format: \n",
    "### Please submit the Google Colab Jupyter Notebook demonstrating your solution in the similar format as illustrated in this notebook. It should contain :\n",
    "*   The final model architecture, parameters and hyper-parameters yielding the best possible performance,\n",
    "*   Its Training and Validation accuracy, \n",
    "*   ROC curve and the AUC score as shown above.\n",
    "*   Also, please submit the final trained model containing the model architecture and its trained weights along with this notebook (For example: HDF5 file, .pb file, .pt file, etc.). You are free to choose Machine Learning Framework of your choice. "
   ]
  },
  {
   "cell_type": "code",
   "execution_count": 16,
   "metadata": {
    "executionInfo": {
     "elapsed": 64728,
     "status": "ok",
     "timestamp": 1604096588763,
     "user": {
      "displayName": "Yaqi Han",
      "photoUrl": "",
      "userId": "03976853212289848731"
     },
     "user_tz": 240
    },
    "id": "ek82eKnpBuI8"
   },
   "outputs": [],
   "source": []
  }
 ],
 "metadata": {
  "accelerator": "GPU",
  "colab": {
   "collapsed_sections": [],
   "name": "Copy of ParticleImages.ipynb",
   "provenance": [
    {
     "file_id": "https://github.com/ML4SCIHackathon/ML4SCI/blob/main/ParticleImagesChallenge/ParticleImages.ipynb",
     "timestamp": 1604096510644
    }
   ],
   "toc_visible": true
  },
  "kernelspec": {
   "display_name": "Python 3",
   "language": "python",
   "name": "python3"
  },
  "language_info": {
   "codemirror_mode": {
    "name": "ipython",
    "version": 3
   },
   "file_extension": ".py",
   "mimetype": "text/x-python",
   "name": "python",
   "nbconvert_exporter": "python",
   "pygments_lexer": "ipython3",
   "version": "3.7.9"
  }
 },
 "nbformat": 4,
 "nbformat_minor": 4
}
